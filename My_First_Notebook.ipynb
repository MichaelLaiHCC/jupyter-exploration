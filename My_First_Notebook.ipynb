{
 "cells": [
  {
   "cell_type": "markdown",
   "id": "2fc7cbc2",
   "metadata": {},
   "source": [
    "Cells form the body of a notebook, and they are the atomic units of code in a notebook. A notebook has two main cell types: \n",
    "\n",
    "Markdown cells: A Markdown cell contains text that is formatted using Markdown. This type of cell is typically used to display text, images, and equations. Markdown cells can be used to document work so that people can understand the notebook. \n",
    "\n",
    "Code cells: A code cell contains code to be run in the kernel. When the code is run, the notebook displays the output after the code cell that generated it. "
   ]
  },
  {
   "cell_type": "code",
   "execution_count": 5,
   "id": "f1f0b60e",
   "metadata": {},
   "outputs": [
    {
     "name": "stdout",
     "output_type": "stream",
     "text": [
      "Hello, World!\n"
     ]
    }
   ],
   "source": [
    "print(\"Hello, World!\")"
   ]
  },
  {
   "cell_type": "markdown",
   "id": "6af79f81",
   "metadata": {},
   "source": [
    "My second markdown cell in Jupyter."
   ]
  },
  {
   "cell_type": "code",
   "execution_count": null,
   "id": "a0233246",
   "metadata": {},
   "outputs": [],
   "source": []
  }
 ],
 "metadata": {
  "kernelspec": {
   "display_name": "Python 3",
   "language": "python",
   "name": "python3"
  },
  "language_info": {
   "codemirror_mode": {
    "name": "ipython",
    "version": 3
   },
   "file_extension": ".py",
   "mimetype": "text/x-python",
   "name": "python",
   "nbconvert_exporter": "python",
   "pygments_lexer": "ipython3",
   "version": "3.8.8"
  }
 },
 "nbformat": 4,
 "nbformat_minor": 5
}
